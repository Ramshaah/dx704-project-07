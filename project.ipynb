{
  "cells": [
    {
      "cell_type": "markdown",
      "metadata": {
        "id": "Md413FzAvFD8"
      },
      "source": [
        "# DX 704 Week 7 Project\n",
        "\n",
        "This week's project will investigate issues in a quadcopter controller based using a linear quadratic regulator.\n",
        "You will start with an existing model of the system and logs from a quadcopter based on it, investigate discrepancies, and ultimately train a new model of the system dynamics."
      ]
    },
    {
      "cell_type": "markdown",
      "metadata": {
        "id": "PTIhFidP-KvD"
      },
      "source": [
        "The full project description and a template notebook are available on GitHub: [Project 7 Materials](https://github.com/bu-cds-dx704/dx704-project-07).\n"
      ]
    },
    {
      "cell_type": "markdown",
      "metadata": {
        "id": "52eGFDLZdsBy"
      },
      "source": [
        "## Example Code\n",
        "\n",
        "You may find it helpful to refer to these GitHub repositories of Jupyter notebooks for example code.\n",
        "\n",
        "* https://github.com/bu-cds-omds/dx601-examples\n",
        "* https://github.com/bu-cds-omds/dx602-examples\n",
        "* https://github.com/bu-cds-omds/dx603-examples\n",
        "* https://github.com/bu-cds-omds/dx704-examples\n",
        "\n",
        "Any calculations demonstrated in code examples or videos may be found in these notebooks, and you are allowed to copy this example code in your homework answers."
      ]
    },
    {
      "cell_type": "markdown",
      "metadata": {
        "id": "d7IKpQFK_AGF"
      },
      "source": [
        "## Introduction\n",
        "\n",
        "You've just joined a drone startup.\n",
        "On your first day, you join your new team to watch a test flight for a new quadcopter prototype.\n",
        "Watching the prototype fly, the team comments that it is not as smooth as usual and suspects that something is off in the controller.\n",
        "They provide you a copy of the dynamics model and log data from the prototype to investigate."
      ]
    },
    {
      "cell_type": "markdown",
      "metadata": {
        "id": "_Ks7EK6h3ktC"
      },
      "source": [
        "The quadcopter control model is a slightly more sophisticated version of the 1D quadcopter problem previously considered.\n",
        "\n",
        "The state vector $\\mathbf{x}_t$ now includes an acceleration component, and the action vector now has a servo control for the throttle instead of a raw force component.\n",
        "\\begin{array}{rcl}\n",
        "\\mathbf{x}_t & = & \\begin{bmatrix} x_t \\\\ v_t \\\\ a_t \\end{bmatrix} \\\\\n",
        "\\mathbf{u_t} & = & \\begin{bmatrix} u_t \\end{bmatrix}\n",
        "\\end{array}"
      ]
    },
    {
      "cell_type": "markdown",
      "metadata": {
        "id": "C8oSLkMqvMFF"
      },
      "source": [
        "## Part 1: Reconstruct the Control Matrix\n",
        "\n",
        "You are provided the dynamics model in the files `model-A.tsv`, `model-B.tsv`, `cost-Q.tsv` and `cost-R.tsv`.\n",
        "Recompute the control matrix $\\mathbf{K}$ to be used in the infinite horizon linear quadratic regulator problem."
      ]
    },
    {
      "cell_type": "code",
      "execution_count": 1,
      "metadata": {
        "id": "Pdpurx_Ym3F6"
      },
      "outputs": [
        {
          "name": "stdout",
          "output_type": "stream",
          "text": [
            "Wrote control-K-intended.tsv\n"
          ]
        }
      ],
      "source": [
        "# YOUR CHANGES HERE\n",
        "import numpy as np\n",
        "import pandas as pd\n",
        "from scipy.linalg import solve_discrete_are\n",
        "\n",
        "# ---- helpers to read square/rectangular TSVs into numpy\n",
        "def read_matrix_tsv(path):\n",
        "    df = pd.read_csv(path, sep=\"\\t\")\n",
        "    # If the original files include an index column, drop non-numeric col if needed\n",
        "    num_df = df.select_dtypes(include=[float, int])\n",
        "    return num_df.to_numpy(), df\n",
        "\n",
        "# Load A, B, Q, R\n",
        "A, A_df = read_matrix_tsv(\"model-A.tsv\")       # expected 3x3\n",
        "B, B_df = read_matrix_tsv(\"model-B.tsv\")       # expected 3x1\n",
        "Q, Q_df = read_matrix_tsv(\"cost-Q.tsv\")        # expected 3x3\n",
        "R, R_df = read_matrix_tsv(\"cost-R.tsv\")        # expected 1x1\n",
        "\n",
        "# Sanity shapes\n",
        "assert A.shape == (3,3)\n",
        "assert B.shape[0] == 3 and B.shape[1] == 1\n",
        "assert Q.shape == (3,3)\n",
        "assert R.shape == (1,1)\n",
        "\n",
        "# Solve DARE for infinite-horizon discrete LQR\n",
        "P = solve_discrete_are(A, B, Q, R)\n",
        "K = np.linalg.inv(B.T @ P @ B + R) @ (B.T @ P @ A)   # shape (1,3)\n",
        "\n",
        "# Save control-K-intended.tsv with columns x, v, a\n",
        "K_df = pd.DataFrame(K, columns=[\"x\",\"v\",\"a\"])\n",
        "K_df.to_csv(\"control-K-intended.tsv\", sep=\"\\t\", index=False)\n",
        "print(\"Wrote control-K-intended.tsv\")\n"
      ]
    },
    {
      "cell_type": "markdown",
      "metadata": {
        "id": "BDS1s6W9m5G1"
      },
      "source": [
        "Save $\\mathbf{K}$ in a file \"control-K-intended.tsv\" with columns x, v and a."
      ]
    },
    {
      "cell_type": "code",
      "execution_count": null,
      "metadata": {
        "id": "heCP8JhgnEIC"
      },
      "outputs": [],
      "source": [
        "# YOUR CHANGES HERE\n",
        "\n",
        "..."
      ]
    },
    {
      "cell_type": "markdown",
      "metadata": {
        "id": "emwSwtKjnG8y"
      },
      "source": [
        "Submit \"control-K-intended.tsv\" in Gradescope."
      ]
    },
    {
      "cell_type": "markdown",
      "metadata": {
        "id": "fqbtALHx_z7l"
      },
      "source": [
        "## Part 2: Recompute the Actions for the Logged States\n",
        "\n",
        "You get access to the log data for the prototype as the file \"qc-log.tsv\".\n",
        "It conveniently saves all the state and actions made.\n",
        "Recompute the actions based on your $\\mathbf{K}$ matrix computed in part 1."
      ]
    },
    {
      "cell_type": "code",
      "execution_count": 2,
      "metadata": {
        "id": "DsbCg2TjoFpp"
      },
      "outputs": [
        {
          "name": "stdout",
          "output_type": "stream",
          "text": [
            "Wrote qc-check.tsv with columns: ['index', 'u_check']\n"
          ]
        }
      ],
      "source": [
        "# YOUR CHANGES HERE\n",
        "\n",
        "# We need state columns; common names are: x, v, a. We’ll be robust to extra columns.\n",
        "log = pd.read_csv(\"qc-log.tsv\", sep=\"\\t\")\n",
        "\n",
        "# Try to find the state columns\n",
        "possible_state_sets = [\n",
        "    [\"x\",\"v\",\"a\"],\n",
        "    [\"x_t\",\"v_t\",\"a_t\"],\n",
        "    [\"state_x\",\"state_v\",\"state_a\"]\n",
        "]\n",
        "for cols in possible_state_sets:\n",
        "    if all(c in log.columns for c in cols):\n",
        "        state_cols = cols\n",
        "        break\n",
        "else:\n",
        "    raise ValueError(\"Could not find state columns in qc-log.tsv\")\n",
        "\n",
        "# index column (fallback to DataFrame index if not present)\n",
        "idx_col = \"index\" if \"index\" in log.columns else None\n",
        "if idx_col is None:\n",
        "    log = log.reset_index().rename(columns={\"index\":\"index\"})\n",
        "    idx_col = \"index\"\n",
        "\n",
        "# Compute u_check = -K x_t\n",
        "x_mat = log[state_cols].to_numpy()             # (T,3)\n",
        "u_check = -(K @ x_mat.T).reshape(-1)           # (T,)\n",
        "\n",
        "qc_check = log[[idx_col]].copy()\n",
        "qc_check[\"u_check\"] = u_check\n",
        "qc_check.to_csv(\"qc-check.tsv\", sep=\"\\t\", index=False)\n",
        "print(\"Wrote qc-check.tsv with columns:\", list(qc_check.columns))\n"
      ]
    },
    {
      "cell_type": "markdown",
      "metadata": {
        "id": "6Z2gHEGBoIjL"
      },
      "source": [
        "Save your computed actions as \"qc-check.tsv\" with columns \"index\" and \"u_check\"."
      ]
    },
    {
      "cell_type": "code",
      "execution_count": null,
      "metadata": {
        "id": "vbyMYtMLoS72"
      },
      "outputs": [],
      "source": [
        "# YOUR CHANGES HERE\n",
        "\n",
        "..."
      ]
    },
    {
      "cell_type": "markdown",
      "metadata": {
        "id": "PDCUyNOfoUzm"
      },
      "source": [
        "Submit \"qc-check.tsv\" in Gradescope."
      ]
    },
    {
      "cell_type": "markdown",
      "metadata": {
        "id": "7Z20uZNHABA-"
      },
      "source": [
        "## Part 3: Reverse Engineer the Actual Control Matrix\n",
        "\n",
        "Now that you have found a systematic difference between your computed actions and the logged actions, estimate $\n",
        "$, the control matrix that was actually used to choose actions in the prototype."
      ]
    },
    {
      "cell_type": "markdown",
      "metadata": {
        "id": "lGoHdtel2iVm"
      },
      "source": [
        "Hint: With a linear quadratic regulator, the optimal actions are always linear combinations of the state that are calculated using the control matrix.\n",
        "You can use linear regression to reverse-engineer the coefficients in the control matrix."
      ]
    },
    {
      "cell_type": "code",
      "execution_count": 3,
      "metadata": {
        "id": "Ab7XnMej21RN"
      },
      "outputs": [
        {
          "name": "stdout",
          "output_type": "stream",
          "text": [
            "Wrote control-K-actual.tsv and control-k-actual.tsv\n"
          ]
        }
      ],
      "source": [
        "# YOUR CHANGES HERE\n",
        "\n",
        "# If logged actions column name varies, try a few options\n",
        "u_candidates = [\"u\",\"u_t\",\"action\",\"throttle\"]\n",
        "for uc in u_candidates:\n",
        "    if uc in log.columns:\n",
        "        u_col = uc\n",
        "        break\n",
        "else:\n",
        "    raise ValueError(\"Could not find an action column in qc-log.tsv\")\n",
        "\n",
        "X = log[state_cols].to_numpy()          # (T,3)\n",
        "u = log[u_col].to_numpy().reshape(-1,1) # (T,1)\n",
        "\n",
        "# Fit least squares: u ≈ -K_actual x  =>  X @ k = -u  for row-vector K_actual\n",
        "# Solve for k^T with lstsq on X; returns (3,1)\n",
        "k_vec, *_ = np.linalg.lstsq(X, -u, rcond=None)   # (3,1)\n",
        "K_actual = k_vec.T                                # (1,3)\n",
        "\n",
        "K_act_df = pd.DataFrame(K_actual, columns=[\"x\",\"v\",\"a\"])\n",
        "K_act_df.to_csv(\"control-K-actual.tsv\", sep=\"\\t\", index=False)\n",
        "# (Some graders expect a lowercase file name—write both to be safe.)\n",
        "K_act_df.to_csv(\"control-k-actual.tsv\", sep=\"\\t\", index=False)\n",
        "print(\"Wrote control-K-actual.tsv and control-k-actual.tsv\")\n"
      ]
    },
    {
      "cell_type": "markdown",
      "metadata": {
        "id": "M7zG_6NT23fq"
      },
      "source": [
        "Save $\\mathbf{K}_{\\mathrm{actual}}$ in \"control-K-actual.tsv\" with the same format as \"control-K-intended.tsv\"."
      ]
    },
    {
      "cell_type": "code",
      "execution_count": null,
      "metadata": {
        "id": "hPAaZI3M3DKB"
      },
      "outputs": [],
      "source": [
        "# YOUR CHANGES HERE\n",
        "\n",
        "..."
      ]
    },
    {
      "cell_type": "markdown",
      "metadata": {
        "id": "EFmODg3W3D2u"
      },
      "source": [
        "Submit \"control-k-actual.tsv\" in Gradescope."
      ]
    },
    {
      "cell_type": "markdown",
      "metadata": {
        "id": "wSuXyz6LAYjK"
      },
      "source": [
        "## Part 4: Recompute the System Dynamics from the Log Data\n",
        "\n",
        "On further investigation, it turns out that the control matrix $\\mathbf{K}$ in the prototype was modified to compensate for state prediction errors.\n",
        "You would like to recompute the $\\mathbf{A}$ and $\\mathbf{B}$ matrices using the log data since they are used to predict the next states.\n",
        "However, since the action vector $\\mathbf{u}_t$ is linearly dependent on the state via $\\mathbf{u}_t=-\\mathbf{K} \\mathbf{x}_t$, you need a new data set so you can separate the effects of the $\\mathbf{A}$ and $\\mathbf{B}$ matrices.\n",
        "Your co-workers kindly provide a new file \"qc-train.tsv\" where noise was added to each action.\n",
        "Estimate the true $\\mathbf{A}$ and $\\mathbf{B}$ matrices based on this file."
      ]
    },
    {
      "cell_type": "code",
      "execution_count": 4,
      "metadata": {
        "id": "13UYre915olG"
      },
      "outputs": [
        {
          "name": "stdout",
          "output_type": "stream",
          "text": [
            "Wrote model-A-new.tsv and model-B-new.tsv\n"
          ]
        }
      ],
      "source": [
        "# YOUR CHANGES HERE\n",
        "\n",
        "train = pd.read_csv(\"qc-train.tsv\", sep=\"\\t\")\n",
        "\n",
        "# Identify columns\n",
        "state_now_opts  = [[\"x\",\"v\",\"a\"], [\"x_t\",\"v_t\",\"a_t\"], [\"sx\",\"sv\",\"sa\"]]\n",
        "state_next_opts = [[\"x_next\",\"v_next\",\"a_next\"], [\"x1\",\"v1\",\"a1\"], [\"x_tp1\",\"v_tp1\",\"a_tp1\"]]\n",
        "u_opts          = [\"u\",\"u_t\",\"action\",\"throttle\"]\n",
        "\n",
        "def pick(opt_list):\n",
        "    for opts in opt_list:\n",
        "        if all(c in train.columns for c in opts):\n",
        "            return opts\n",
        "    return None\n",
        "\n",
        "state_now = pick(state_now_opts)\n",
        "state_next = pick(state_next_opts)\n",
        "u_col = next((c for c in u_opts if c in train.columns), None)\n",
        "\n",
        "if state_now is None:\n",
        "    raise ValueError(\"Could not find current-state columns in qc-train.tsv\")\n",
        "if u_col is None:\n",
        "    raise ValueError(\"Could not find action column in qc-train.tsv\")\n",
        "\n",
        "X_t = train[state_now].to_numpy()\n",
        "u_t = train[[u_col]].to_numpy()\n",
        "\n",
        "# Build X_{t+1}: either from provided columns, or by shifting rows\n",
        "if state_next is not None:\n",
        "    X_tp1 = train[state_next].to_numpy()\n",
        "else:\n",
        "    # Attempt to sort by index and shift\n",
        "    if \"index\" in train.columns:\n",
        "        train_sorted = train.sort_values(\"index\").reset_index(drop=True)\n",
        "    else:\n",
        "        train_sorted = train.reset_index(drop=True)\n",
        "    X_t = train_sorted[state_now].to_numpy()[:-1]\n",
        "    u_t = train_sorted[[u_col]].to_numpy()[:-1]\n",
        "    X_tp1 = train_sorted[state_now].to_numpy()[1:]\n",
        "\n",
        "# Solve least squares for [A B]:\n",
        "#   X_{t+1} = [X_t  u_t] @ W,  with W = [[A],[B]] of shape (3+1, 3)\n",
        "Phi = np.hstack([X_t, u_t])           # (N, 4)\n",
        "W, *_ = np.linalg.lstsq(Phi, X_tp1, rcond=None)   # (4,3)\n",
        "\n",
        "A_new = W[:3, :].T    # (3,3)\n",
        "B_new = W[3:, :].T    # (1,3)^T -> (3,1)\n",
        "\n",
        "# Save in same format as originals (rows/cols labeled x,v,a and 'u' for B)\n",
        "idx = [\"x\",\"v\",\"a\"]\n",
        "A_out = pd.DataFrame(A_new, index=idx, columns=idx)\n",
        "B_out = pd.DataFrame(B_new, index=idx, columns=[\"u\"])\n",
        "\n",
        "A_out.to_csv(\"model-A-new.tsv\", sep=\"\\t\")\n",
        "B_out.to_csv(\"model-B-new.tsv\", sep=\"\\t\")\n",
        "print(\"Wrote model-A-new.tsv and model-B-new.tsv\")\n"
      ]
    },
    {
      "cell_type": "markdown",
      "metadata": {
        "id": "_Sxidkjb5phM"
      },
      "source": [
        "Save $\\mathbf{A}$ and $\\mathbf{B}$ to \"model-A-new.tsv\" and \"model-B-new.tsv\" respectively."
      ]
    },
    {
      "cell_type": "code",
      "execution_count": null,
      "metadata": {
        "id": "LzcREdX_5pFS"
      },
      "outputs": [],
      "source": [
        "# YOUR CHANGES HERE\n",
        "\n",
        "..."
      ]
    },
    {
      "cell_type": "markdown",
      "metadata": {
        "id": "UNkBsDgD5vIn"
      },
      "source": [
        "Submit \"model-A-new.tsv\" and \"model-B-new.tsv\" in Gradescope."
      ]
    },
    {
      "cell_type": "markdown",
      "metadata": {
        "id": "smsTLuFcvR-I"
      },
      "source": [
        "## Part 5: Code\n",
        "\n",
        "Please submit a Jupyter notebook that can reproduce all your calculations and recreate the previously submitted files.\n",
        "You do not need to provide code for data collection if you did that by manually."
      ]
    },
    {
      "cell_type": "markdown",
      "metadata": {
        "id": "zi8lV2pbvWMs"
      },
      "source": [
        "## Part 6: Acknowledgements\n",
        "\n",
        "If you discussed this assignment with anyone, please acknowledge them here.\n",
        "If you did this assignment completely on your own, simply write none below.\n",
        "\n",
        "If you used any libraries not mentioned in this module's content, please list them with a brief explanation what you used them for. If you did not use any other libraries, simply write none below.\n",
        "\n",
        "If you used any generative AI tools, please add links to your transcripts below, and any other information that you feel is necessary to comply with the generative AI policy. If you did not use any generative AI tools, simply write none below."
      ]
    },
    {
      "cell_type": "code",
      "execution_count": 6,
      "metadata": {},
      "outputs": [
        {
          "name": "stdout",
          "output_type": "stream",
          "text": [
            "Wrote acknowledgments.txt\n"
          ]
        }
      ],
      "source": [
        "ack_text = \"\"\"Acknowledgements:\n",
        "none\n",
        "\n",
        "Extra libraries used:\n",
        "none\n",
        "\n",
        "Generative AI usage:\n",
        "Included ChatGPT assistance for code scaffolding and file I/O patterns for LQR and regression;\n",
        "\n",
        "\"\"\"\n",
        "with open(\"acknowledgments.txt\",\"w\") as f:\n",
        "    f.write(ack_text)\n",
        "print(\"Wrote acknowledgments.txt\")\n"
      ]
    }
  ],
  "metadata": {
    "colab": {
      "toc_visible": false
    },
    "kernelspec": {
      "display_name": "Python 3",
      "name": "python3"
    },
    "language_info": {
      "codemirror_mode": {
        "name": "ipython",
        "version": 3
      },
      "file_extension": ".py",
      "mimetype": "text/x-python",
      "name": "python",
      "nbconvert_exporter": "python",
      "pygments_lexer": "ipython3",
      "version": "3.12.1"
    }
  },
  "nbformat": 4,
  "nbformat_minor": 0
}
